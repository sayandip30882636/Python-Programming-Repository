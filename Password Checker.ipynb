{
  "nbformat": 4,
  "nbformat_minor": 0,
  "metadata": {
    "colab": {
      "provenance": []
    },
    "kernelspec": {
      "name": "python3",
      "display_name": "Python 3"
    },
    "language_info": {
      "name": "python"
    }
  },
  "cells": [
    {
      "cell_type": "code",
      "execution_count": 15,
      "metadata": {
        "colab": {
          "base_uri": "https://localhost:8080/"
        },
        "id": "P2sJCppBfc9U",
        "outputId": "11d32307-cc99-4df8-ab5b-063cb2224044"
      },
      "outputs": [
        {
          "output_type": "stream",
          "name": "stdout",
          "text": [
            "put the integer value10\n",
            "{1: 1, 2: 2, 3: 6, 4: 24, 5: 120, 6: 720, 7: 5040, 8: 40320, 9: 362880, 10: 3628800}\n"
          ]
        }
      ],
      "source": [
        "# 1.\tWrite a python program that asks the user to enter an integer n and return a dictionary whose keys\n",
        "# are integers 1, 2, 3, ... n and whose values are 1! , 2! , 3! , … , n!\n",
        "# 2.\tWrite a python script which accepts the password as input and checks if\n",
        "# it is strong or not. If it is strong print the following statement “Secure Password! Go Ahead and Register.”\n",
        "# Else suggest a strong password. You need to use lambda functions for checking if the password is strong or not\n",
        "\n",
        "def factorial(n):\n",
        "  if n >= 0:\n",
        "    if n == 0 or n == 1:  # Corrected base case: n is either 0 or 1\n",
        "      return 1  # Factorial of 0 and 1 is 1\n",
        "    else:\n",
        "      return n * factorial(n - 1)\n",
        "  else:\n",
        "    n1 = abs(n)\n",
        "    return factorial(n1)\n",
        "\n",
        "def factorial_dict(n):\n",
        "    fact_dict={}\n",
        "    for i in range(1,n+1):\n",
        "      fact_dict[i]=factorial(i) # Call the factorial function with i as argument\n",
        "    return fact_dict\n",
        "\n",
        "n= int(input(\"put the integer value\"))\n",
        "\n",
        "fact_dict=factorial_dict(n) # n is defined in the global environment\n",
        "\n",
        "print(fact_dict) # Print the resulting dictionary\n",
        "\n",
        "\n",
        "\n",
        "\n"
      ]
    },
    {
      "cell_type": "code",
      "source": [
        "password_checker=lambda password : all([len(password)>=8,\n",
        "                                        any(x.isupper()for x in password),\n",
        "                                        any(x.islower()for x in password),\n",
        "                                        any(x.isdigit() for x in password),\n",
        "                                        any(x in \"!@#$%^&*()_+{}:<>?|-=[]\\;',./`~\" for x in password)]) # using the lambda funtion for making the criteria\n",
        "\n",
        "user_password=input(\"enter your password :\")\n",
        "\n",
        "if password_checker(user_password): #if user's input satisfies the condition\n",
        "   print(\"secure password\")\n",
        "else : #other case\n",
        "   print(\"weak password\")\n",
        "\n",
        "\n"
      ],
      "metadata": {
        "colab": {
          "base_uri": "https://localhost:8080/"
        },
        "id": "X6vkoMAulE0p",
        "outputId": "e4a83877-9a28-4655-e5ee-bcc0fa49eb56"
      },
      "execution_count": 20,
      "outputs": [
        {
          "output_type": "stream",
          "name": "stdout",
          "text": [
            "enter your password :Sayandip@3088!$55\n",
            "secure password\n"
          ]
        }
      ]
    },
    {
      "cell_type": "code",
      "source": [],
      "metadata": {
        "id": "zOt1BXSYyU0w"
      },
      "execution_count": 19,
      "outputs": []
    }
  ]
}