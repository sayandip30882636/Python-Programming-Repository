{
  "nbformat": 4,
  "nbformat_minor": 0,
  "metadata": {
    "colab": {
      "provenance": []
    },
    "kernelspec": {
      "name": "python3",
      "display_name": "Python 3"
    },
    "language_info": {
      "name": "python"
    }
  },
  "cells": [
    {
      "cell_type": "code",
      "execution_count": 1,
      "metadata": {
        "colab": {
          "base_uri": "https://localhost:8080/"
        },
        "id": "YHE8GFYcuLLQ",
        "outputId": "a70417aa-e45e-4d4c-b1ae-f03ce44ba39e"
      },
      "outputs": [
        {
          "output_type": "stream",
          "name": "stdout",
          "text": [
            "enter first name John\n",
            "enter age23\n",
            "enter second name Richard\n",
            "enter age22\n",
            "enter third name Robin\n",
            "enter age22\n",
            "My name is John ,I'm your friend\n",
            "My age is 23\n",
            "My name is Richard ,I'm your friend\n",
            "My age is 22\n",
            "My name is Robin ,I'm your friend\n",
            "My age is 22\n"
          ]
        }
      ],
      "source": [
        "# Create a class of your choice with a min of 2 data members and 2 methods .create 3 objects and call the methods\n",
        "\n",
        "class MyClass:\n",
        "\n",
        "   def __init__(self,name,age):\n",
        "       self.name=name\n",
        "       self.age=age\n",
        "   def greet(self):\n",
        "       print(\"My name is\",self.name,\",I'm your friend\")\n",
        "   def greet_with_age(self):\n",
        "       print(\"My age is\",self.age)\n",
        "\n",
        "obj_1= MyClass(input(\"enter first name \"),input(\"enter age\"))\n",
        "obj_2= MyClass(input(\"enter second name \"),input(\"enter age\"))\n",
        "obj_3= MyClass(input(\"enter third name \"),input(\"enter age\"))\n",
        "\n",
        "obj_1.greet()\n",
        "obj_1.greet_with_age()\n",
        "\n",
        "obj_2.greet()\n",
        "obj_2.greet_with_age()\n",
        "\n",
        "obj_3.greet()\n",
        "obj_3.greet_with_age()"
      ]
    },
    {
      "cell_type": "code",
      "source": [],
      "metadata": {
        "id": "ts0hMsHrudFT"
      },
      "execution_count": null,
      "outputs": []
    }
  ]
}