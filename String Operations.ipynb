{
  "nbformat": 4,
  "nbformat_minor": 0,
  "metadata": {
    "colab": {
      "provenance": []
    },
    "kernelspec": {
      "name": "python3",
      "display_name": "Python 3"
    },
    "language_info": {
      "name": "python"
    }
  },
  "cells": [
    {
      "cell_type": "code",
      "execution_count": 34,
      "metadata": {
        "colab": {
          "base_uri": "https://localhost:8080/"
        },
        "id": "UAH5GG8j2_54",
        "outputId": "a7769118-3891-42c1-da7c-24dae35a048a"
      },
      "outputs": [
        {
          "output_type": "stream",
          "name": "stdout",
          "text": [
            "p\n",
            "i\n",
            "d\n",
            "n\n",
            "a\n",
            "y\n",
            "a\n",
            "s\n"
          ]
        }
      ],
      "source": [
        "def reverse(s):\n",
        "    return(s[::-1])\n",
        "Rev = reverse(\"sayandip\")\n",
        "for i in Rev:\n",
        "    print(i)"
      ]
    },
    {
      "cell_type": "code",
      "source": [
        "def find(word,letter,index):\n",
        "    index=0\n",
        "    while index < len(word):\n",
        "       if word[index]== letter:\n",
        "        return index\n",
        "       else:\n",
        "        index=index+1\n",
        "    return -1\n",
        "\n",
        "find(\"sayandip\",\"p\",7)"
      ],
      "metadata": {
        "colab": {
          "base_uri": "https://localhost:8080/"
        },
        "id": "gq3dw6WW3z3x",
        "outputId": "952c7795-61bf-46fe-ac0b-f5c8a586a683"
      },
      "execution_count": 30,
      "outputs": [
        {
          "output_type": "execute_result",
          "data": {
            "text/plain": [
              "7"
            ]
          },
          "metadata": {},
          "execution_count": 30
        }
      ]
    },
    {
      "cell_type": "code",
      "source": [
        "def myrot_13(string , rotate):\n",
        "    string_rotate= \"\"\n",
        "    for i in string:\n",
        "        ind=0\n",
        "        ind = ord(i)\n",
        "        ind_rotate= chr(ind+rotate)\n",
        "        string_rotate=string_rotate+ind_rotate\n",
        "    return string_rotate\n",
        "\n",
        "myrot_13(\"hello\", 8)\n",
        ""
      ],
      "metadata": {
        "colab": {
          "base_uri": "https://localhost:8080/",
          "height": 35
        },
        "id": "4q_rFYxW9NWE",
        "outputId": "9eb31cba-b402-45b0-9220-f456538b4c0e"
      },
      "execution_count": 65,
      "outputs": [
        {
          "output_type": "execute_result",
          "data": {
            "text/plain": [
              "'pmttw'"
            ],
            "application/vnd.google.colaboratory.intrinsic+json": {
              "type": "string"
            }
          },
          "metadata": {},
          "execution_count": 65
        }
      ]
    },
    {
      "cell_type": "code",
      "source": [],
      "metadata": {
        "id": "5e6RyMZtME7U"
      },
      "execution_count": null,
      "outputs": []
    }
  ]
}