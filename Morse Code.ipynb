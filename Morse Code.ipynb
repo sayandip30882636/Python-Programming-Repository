{
  "nbformat": 4,
  "nbformat_minor": 0,
  "metadata": {
    "colab": {
      "provenance": []
    },
    "kernelspec": {
      "name": "python3",
      "display_name": "Python 3"
    },
    "language_info": {
      "name": "python"
    }
  },
  "cells": [
    {
      "cell_type": "code",
      "source": [
        "# 1.\tYou are an enigmatologist, a person who loves riddles, puzzles. Morse code has always fascinated you and in today’s lab you want to include your love for riddles in the code you write.\n",
        "# a)\tWrite a python script which takes in a string and converts it into the Morse code and prints it. Include one space after each character\n",
        "# b)\tWrite a script which accepts Morse code and prints back English words in camel case.\n",
        "# Test Case:\n",
        "# 1(a) Input = “Seriously!”\n",
        "  # Output=”… . .-. .. --- ..- … .-.. -.-- -.-.--\"\n",
        "#\t(b) Input=”… . .-. .. --- ..- … .-.. -.-- -.-.--\"\n",
        "\t # Output=”“Seriously!”\n",
        "#Note :\n",
        "#•\tThe symbols for Morse code “.”  Dot “-“ Dash(hyphen)\n",
        "#•\tThe Morse code chart is given below\n",
        "#•\tInput for 1(a) can be both lower and upper case\n",
        "#•\tOutput  for 1(b) should be in camel case as mentioned.\n",
        "#•\tThe Morse code should be printed with one space between each character\n",
        "#•\tThe input for 1(b) should also take Morse code with space after each character\n",
        "\n",
        "# 1(a)\n",
        "\n",
        "def morse_code(string_value):\n",
        "\n",
        "    string=\"\"\n",
        "    code_dictionary={\n",
        "    'A': '.-', 'B': '-...', 'C': '-.-.', 'D': '-..', 'E': '.', 'F': '..-.', 'G': '--.',\n",
        "    'H': '....', 'I': '..', 'J': '.---', 'K': '-.-', 'L': '.-..', 'M': '--', 'N': '-.',\n",
        "    'O': '---', 'P': '.--.', 'Q': '--.-', 'R': '.-.', 'S': '...', 'T': '-',\n",
        "    'U': '..-', 'V': '...-', 'W': '.--', 'X': '-..-', 'Y': '-.--', 'Z': '--..',\n",
        "    '0': '-----', '1': '.----', '2': '..---', '3': '...--', '4': '....-',\n",
        "    '5': '.....', '6': '-....', '7': '--...', '8': '---..', '9': '----.',\n",
        "    '.': '.-.-.-', ',': '--..--', '?': '..--..', '\\'': '.----.', '!': '-.-.--',\n",
        "    '/': '-..-.', '(': '-.--.', ')': '-.--.-', '&': '.-...', ':': '---...',\n",
        "    ';': '-.-.-.', '=': '-...-', '+': '.-.-.', '-': '-....-', '_': '..--.-',\n",
        "    '\"': '.-..-.', '$': '...-..-', '@': '.--.-.'\n",
        "    }\n",
        "\n",
        "    for char in string_value:\n",
        "\n",
        "        if char.isupper():\n",
        "            string=string+code_dictionary[char]+ \" \"\n",
        "        elif char.islower():\n",
        "            string=string+code_dictionary[char.upper()]+ \" \"\n",
        "        elif char==\" \":\n",
        "            string=string+\"cant be converted plz enter a valid string \"\n",
        "        else:\n",
        "            string=string+code_dictionary[char]+ \" \"\n",
        "\n",
        "\n",
        "    return string.strip()\n",
        "\n",
        "print(morse_code(\" \"))\n",
        "print(morse_code(\"Seriously!\"))\n",
        "print(morse_code(\"rty\"))\n",
        "print(morse_code(\"ABcDnmmhhjuAWSED\"))\n",
        "print(morse_code(\"SAYANDIP\"))\n",
        "print(morse_code(\"sayandip\"[::-1]))\n"
      ],
      "metadata": {
        "id": "HsTcm5FfYGV6",
        "colab": {
          "base_uri": "https://localhost:8080/"
        },
        "outputId": "aade2833-97f6-4a63-ba34-6d98578f3a82"
      },
      "execution_count": 1,
      "outputs": [
        {
          "output_type": "stream",
          "name": "stdout",
          "text": [
            "cant be converted plz enter a valid string\n",
            "... . .-. .. --- ..- ... .-.. -.-- -.-.--\n",
            ".-. - -.--\n",
            ".- -... -.-. -.. -. -- -- .... .... .--- ..- .- .-- ... . -..\n",
            "... .- -.-- .- -. -.. .. .--.\n",
            ".--. .. -.. -. .- -.-- .- ...\n"
          ]
        }
      ]
    },
    {
      "cell_type": "code",
      "source": [
        "def morse_to_english_word(morse_code):\n",
        "    morse_to_char_dict = {\n",
        "        '.-': 'A', '-...': 'B', '-.-.': 'C', '-..': 'D', '.': 'E', '..-.': 'F',\n",
        "        '--.': 'G', '....': 'H', '..': 'I', '.---': 'J', '-.-': 'K', '.-..': 'L',\n",
        "        '--': 'M', '-.': 'N', '---': 'O', '.--.': 'P', '--.-': 'Q', '.-.': 'R',\n",
        "        '...': 'S', '-': 'T', '..-': 'U', '...-': 'V', '.--': 'W', '-..-': 'X',\n",
        "        '-.--': 'Y', '--..': 'Z', '.----': '1', '..---': '2', '...--': '3',\n",
        "        '....-': '4', '.....': '5', '-....': '6', '--...': '7', '---..': '8',\n",
        "        '----.': '9', '-----': '0','.-.-.-': '.', '--..--': ',', '..--..': '?',\n",
        "        '.----.': \"'\", '-.-.--': '!','-..-.': '/', '-.--.': '(', '-.--.-': ')',\n",
        "        '.-...': '&', '---...': ':', '-.-.-.': ';', '-...-': '=', '.-.-.': '+',\n",
        "        '-....-': '-', '..--.-': '_', '.-..-.': '\"', '...-..-': '$', '.--.-.': '@'\n",
        "    }\n",
        "    english_word = \" \"\n",
        "    morse_words=morse_code.split(\" \")    # Split input by spaces to get Morse code characters\n",
        "    for morse_char in morse_words:\n",
        "        if morse_char in morse_to_char_dict:\n",
        "            english_word+=morse_to_char_dict[morse_char]\n",
        "        else:\n",
        "            english_word+=\" \"\n",
        "    return english_word\n",
        "\n",
        "morse_code= input(\"enter the morse code you want to convert to string: \")\n",
        "result=morse_to_english_word(morse_code)\n",
        "print(result)\n"
      ],
      "metadata": {
        "id": "71orBkY4SUWh"
      },
      "execution_count": null,
      "outputs": []
    },
    {
      "cell_type": "code",
      "source": [],
      "metadata": {
        "id": "3uP4PF53Sagp"
      },
      "execution_count": null,
      "outputs": []
    }
  ]
}