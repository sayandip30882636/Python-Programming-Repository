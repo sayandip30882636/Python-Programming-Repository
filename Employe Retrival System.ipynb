{
  "nbformat": 4,
  "nbformat_minor": 0,
  "metadata": {
    "colab": {
      "provenance": []
    },
    "kernelspec": {
      "name": "python3",
      "display_name": "Python 3"
    },
    "language_info": {
      "name": "python"
    }
  },
  "cells": [
    {
      "cell_type": "code",
      "execution_count": 1,
      "metadata": {
        "colab": {
          "base_uri": "https://localhost:8080/"
        },
        "id": "dzMMWz7Md5z7",
        "outputId": "fe7118f8-9831-4bc1-9dbe-b2e7e56f24cf"
      },
      "outputs": [
        {
          "output_type": "stream",
          "name": "stdout",
          "text": [
            "Name : Sayan\n",
            "Age : 20\n",
            "Empid : 2448048\n",
            "Salary : 50000\n",
            "Dept : 1MDS\n"
          ]
        }
      ],
      "source": [
        "# Multiple Inheritance by using the teacher inherits from person and employee\n",
        "\n",
        "class person:\n",
        "  def __init__(self,name,age):\n",
        "    self.name=name\n",
        "    self.age=age\n",
        "\n",
        "  def display(self):\n",
        "    print(\"Name :\", self.name)\n",
        "    print(\"Age :\", self.age)\n",
        "\n",
        "class employee:\n",
        "  def __init__(self,empid,salary):\n",
        "    self.empid=empid\n",
        "    self.salary=salary\n",
        "\n",
        "  def display(self):\n",
        "    print(\"Empid :\", self.empid)\n",
        "    print(\"Salary :\", self.salary)\n",
        "\n",
        "class Teacher(person,employee):\n",
        "    def __init__(self,name,age,empid,salary,dept):\n",
        "      person.__init__(self,name,age)\n",
        "      employee.__init__(self,empid,salary)\n",
        "      self.dept=dept\n",
        "\n",
        "    def display(self):\n",
        "      person.display(self)\n",
        "      employee.display(self)\n",
        "      print(\"Dept :\", self.dept)\n",
        "\n",
        "pass\n",
        "\n",
        "teacher = Teacher(\"Sayan\",20,2448048,50000,\"1MDS\")\n",
        "teacher.display()\n",
        "\n",
        "\n",
        ""
      ]
    },
    {
      "cell_type": "code",
      "source": [],
      "metadata": {
        "id": "ILhlhwnBeBxy"
      },
      "execution_count": null,
      "outputs": []
    }
  ]
}