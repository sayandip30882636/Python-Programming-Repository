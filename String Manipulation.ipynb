{
  "nbformat": 4,
  "nbformat_minor": 0,
  "metadata": {
    "colab": {
      "provenance": []
    },
    "kernelspec": {
      "name": "python3",
      "display_name": "Python 3"
    },
    "language_info": {
      "name": "python"
    }
  },
  "cells": [
    {
      "cell_type": "code",
      "execution_count": 71,
      "metadata": {
        "colab": {
          "base_uri": "https://localhost:8080/"
        },
        "id": "4fDhN2rL9USi",
        "outputId": "639d6432-23c5-4045-a1e0-95554f936b70"
      },
      "outputs": [
        {
          "output_type": "stream",
          "name": "stdout",
          "text": [
            "Google.\n"
          ]
        }
      ],
      "source": [
        "# Write a function “GoogleLove()” that takes a list and returns a string . Your input should be numbers having 1,2,3,4,5,6,7,8(zero and nine  are not be included). Consider the following rules for returning the string\n",
        "# •\t1, 2, 3, 4 = g, o, l, e\n",
        "# •\t5 Corresponding to up case of letter before this.\n",
        "# •\t6 Add a point to the end.\n",
        "# •\t7 Change case of the first letter.\n",
        "# •\t8 Reverse the string.\n",
        "# Consider the example\n",
        "# GoogleLove([“12213467”])-> \"Google.\"\n",
        "\n",
        "def GoogleLove(list):\n",
        "    string = \"\"\n",
        "    for i in list :\n",
        "      for char in i:\n",
        "\n",
        "       if char == \"1\":\n",
        "        string = string + \"g\"\n",
        "       elif char == \"2\":\n",
        "        string = string + \"o\"\n",
        "       elif char == \"3\":\n",
        "        string = string + \"l\"\n",
        "       elif char  == \"4\":\n",
        "        string = string + \"e\"\n",
        "       elif char == \"5\":\n",
        "        string = string.upper()\n",
        "       elif char == \"6\":\n",
        "        string = string + \".\"\n",
        "       elif char == \"7\":\n",
        "        string = string.title()\n",
        "       elif char == \"8\":\n",
        "        string = string[::-1]\n",
        "\n",
        "    return string\n",
        "\n",
        "print(GoogleLove([\"12213467\"]))"
      ]
    },
    {
      "cell_type": "code",
      "source": [],
      "metadata": {
        "id": "v6rxGjJ4N6Lx"
      },
      "execution_count": null,
      "outputs": []
    }
  ]
}